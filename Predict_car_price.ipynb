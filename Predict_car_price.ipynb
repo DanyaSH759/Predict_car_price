{
  "cells": [
    {
      "cell_type": "markdown",
      "metadata": {
        "id": "HdCv5dE1XA_0"
      },
      "source": [
        "\n",
        "\n",
        "https://www.kaggle.com/competitions/used-cars-price-prediction-22ds соревнование\n",
        "\n",
        "https://dzen.ru/a/Y_W7RVk7mG5MUBlh статья по ML\n",
        "\n",
        "https://github.com/menadzhiev/car_price_predictor/blob/main/%D0%A1%D0%BE%D0%B7%D0%B4%D0%B0%D0%BD%D0%B8%D0%B5%20%D0%BD%D0%BE%D0%B2%D1%8B%D1%85%20%D0%BF%D1%80%D0%B8%D0%B7%D0%BD%D0%B0%D0%BA%D0%BE%D0%B2.ipynb\n",
        "\n",
        "https://www.dmitrymakarov.ru/"
      ]
    },
    {
      "cell_type": "markdown",
      "metadata": {
        "id": "a4tko2DTXgr8"
      },
      "source": [
        "Описание полей данных\n",
        "\n",
        "\n",
        "\n",
        "1. Date: Год выпуска автомобиля.\n",
        "2. Make: Марка автомобиля.\n",
        "3. Model: издание автомобиля определенной марки.\n",
        "4. Trim: Уровни отделки салона автомобиля — это просто разные версии модели.\n",
        "5. Body: Тип кузова транспортного средства относится к форме и модели конкретной марки автомобиля.\n",
        "6. Transmission: механизм, который передает мощность от двигателя к колесам.\n",
        "7. VIN: идентификационный номер транспортного средства.\n",
        "8. State: состояние, в котором автомобиль выставлен на аукцион.\n",
        "9. Condition: Состояние автомобилей на момент аукциона.\n",
        "10. Odometer: расстояние, пройденное автомобилем с момента выпуска.\n",
        "11. Color: Цвет кузова автомобиля.\n",
        "12. Interior: Цвет салона автомобиля.\n",
        "13. Seller: Продавец автомобиля, автосалоны.\n",
        "14. mmr: Рекорд рынка Manhiem, рыночная оценочная цена автомобилей.\n",
        "15. sellingprice: цена, по которой автомобиль был продан на аукционе.\n",
        "16. saledate: Дата продажи автомобиля.\n",
        "\n",
        "\n"
      ]
    },
    {
      "cell_type": "markdown",
      "metadata": {
        "id": "6vfwfCFJsID6"
      },
      "source": [
        "План работы\n",
        "1. Загрузка данных и библиотек для работы\n",
        "2. Обработка датасетов\n",
        "3. Изучение данных\n",
        "4. Постановка задачи для ML\n",
        "5. Изучение лучших моделей обучения\n",
        "6. Тестирование всех моделей на тестовой выборке\n",
        "7. выбор наилучшей модели\n",
        "8. Вывод\n"
      ]
    },
    {
      "cell_type": "markdown",
      "metadata": {
        "id": "Q9_0yciWuiWN"
      },
      "source": [
        "###1. Загрузка данных и библиотек для работы"
      ]
    },
    {
      "cell_type": "code",
      "execution_count": null,
      "metadata": {
        "id": "7WJ19louQths"
      },
      "outputs": [],
      "source": [
        "# Библиотеки используемые в работе\n",
        "import pandas as pd\n",
        "import matplotlib.pyplot as plt\n",
        "import numpy as np\n",
        "from pathlib import Path\n",
        "\n",
        "import warnings\n",
        "warnings.filterwarnings(\"ignore\")\n",
        "\n",
        "from sklearn.preprocessing import (\n",
        "    OneHotEncoder,\n",
        "    OrdinalEncoder,\n",
        "    StandardScaler\n",
        ")\n",
        "\n",
        "\n",
        "from sklearn.model_selection import cross_val_score\n",
        "\n",
        "from sklearn.dummy import DummyClassifier\n",
        "from sklearn.tree import DecisionTreeClassifier\n",
        "from sklearn.ensemble import RandomForestClassifier\n",
        "from sklearn.linear_model import LogisticRegression\n",
        "\n",
        "\n",
        "from sklearn.model_selection import train_test_split"
      ]
    },
    {
      "cell_type": "code",
      "execution_count": null,
      "metadata": {
        "id": "hfAtng4eR0G_"
      },
      "outputs": [],
      "source": [
        "# загрузка датасетов\n",
        "train_db = pd.read_csv('train.csv')\n",
        "test_db = pd.read_csv('test.csv')\n"
      ]
    },
    {
      "cell_type": "markdown",
      "metadata": {
        "id": "vxV0hi7WvSGG"
      },
      "source": [
        "**Вывод:** Были импортированны базовые библиотеки и скачены основные датасеты для работы. Тренировочный и тестовый датасет отображаются без проблем."
      ]
    },
    {
      "cell_type": "markdown",
      "metadata": {
        "id": "_4judoNBvn6W"
      },
      "source": [
        "###2. Обработка датасетов\n",
        "\n",
        "\n",
        "\n"
      ]
    },
    {
      "cell_type": "code",
      "execution_count": null,
      "metadata": {
        "id": "ItN0C0QxvjMW"
      },
      "outputs": [],
      "source": [
        "def base_analizez(data):\n",
        "    ''' функция для изучения датасета'''\n",
        "\n",
        "    print('Просмотр датасета:')\n",
        "    display(data.head())\n",
        "\n",
        "    print('\\n')\n",
        "    print('Общая информация об датасете:')\n",
        "    print(data.info())\n",
        "\n",
        "    print('\\n')\n",
        "    print('Проверка на наличие значений nan в датасете:')\n",
        "    display(pd.DataFrame(round(\n",
        "        data.isna().mean()*100,)).style.background_gradient('coolwarm'))\n",
        "\n",
        "    # print('\\n')\n",
        "    # print('Изучение корреляции между данными')\n",
        "\n",
        "    # Т.к. в датасете присутствует большое количество категориальных\n",
        "    # переменных применим метрику Phik (φk) корреляции.\n",
        "\n",
        "    # phik_overview = data.phik_matrix()\n",
        "\n",
        "    # plot_correlation_matrix(phik_overview.values.round(2),\n",
        "    #                     x_labels=phik_overview.columns,\n",
        "    #                     y_labels=phik_overview.index,\n",
        "    #                     vmin=0, vmax=1, color_map=\"Greens\",\n",
        "    #                     title=r\"correlation $\\phi_K$\",\n",
        "    #                     fontsize_factor=1,\n",
        "    #                     figsize=(15, 8))\n",
        "    # plt.tight_layout()"
      ]
    },
    {
      "cell_type": "code",
      "execution_count": null,
      "metadata": {
        "id": "2PdiUdIvv5pS"
      },
      "outputs": [],
      "source": [
        "# подробное изучения тренировойчного датасета\n",
        "base_analizez(train_db)"
      ]
    },
    {
      "cell_type": "code",
      "execution_count": null,
      "metadata": {
        "id": "XyVoVT8ewNpj"
      },
      "outputs": [],
      "source": [
        "# изучение тренировочного датасета\n",
        "base_analizez(test_db)"
      ]
    },
    {
      "cell_type": "code",
      "execution_count": null,
      "metadata": {
        "id": "SA_tdvnNTieg"
      },
      "outputs": [],
      "source": [
        "%%time\n",
        "# Заменим пропуски на самые популярные значения по модели ( в дальнейшем можно применить ML для этого)\n",
        "def change_transmission(data):\n",
        "    '''меняет пустые значения на самые распрастраненные'''\n",
        "\n",
        "    new_transmission = {}\n",
        "\n",
        "    for i in data['model'].unique():\n",
        "        counted = []\n",
        "        try:\n",
        "            for x in data['transmission'].unique():\n",
        "                if x == 'Nan':\n",
        "                    pass\n",
        "                counted.append([x, data.loc[(data['model'] == i) & (data['transmission'] == x), ['transmission']].count()])\n",
        "        except:\n",
        "            counted.append('Nan')\n",
        "        try:\n",
        "            if counted[0][1] >= counted[1][0]:\n",
        "                new_transmission[i] = counted[0][0]\n",
        "            else:\n",
        "                new_transmission[i] = counted[1][0]\n",
        "        except:\n",
        "            new_transmission[i] = counted[0][0]\n",
        "\n",
        "    for x in data['model'].unique():\n",
        "        data.loc[(data['model'] == x) & (data['transmission'].isna()), 'transmission'] = new_transmission[x]\n",
        "\n",
        "    return data"
      ]
    },
    {
      "cell_type": "code",
      "execution_count": null,
      "metadata": {
        "id": "lCveLFQciKAF"
      },
      "outputs": [],
      "source": [
        "train_db['make'] = train_db['make'].fillna('base')\n",
        "train_db['model'] = train_db['model'].fillna('base1')\n",
        "train_db['body'] = train_db['body'].fillna('base2')\n",
        "train_db['trim'] = train_db['trim'].fillna('base3')\n",
        "train_db['condition'] = train_db['condition'].fillna(2.5)\n",
        "train_db['color'] = train_db['color'].fillna('base4')\n",
        "train_db['odometer'] = train_db['odometer'].fillna(10000)\n",
        "train_db['interior'] = train_db['color'].fillna('base5')"
      ]
    },
    {
      "cell_type": "code",
      "execution_count": null,
      "metadata": {
        "id": "9tM6kt4riKAG"
      },
      "outputs": [],
      "source": [
        "test_db['make'] = test_db['make'].fillna('base')\n",
        "test_db['model'] = test_db['model'].fillna('base1')\n",
        "test_db['body'] = test_db['body'].fillna('base2')\n",
        "test_db['trim'] = test_db['trim'].fillna('base3')\n",
        "test_db['condition'] = test_db['condition'].fillna(2.5)\n",
        "test_db['color'] = test_db['color'].fillna('base4')\n",
        "test_db['odometer'] = test_db['odometer'].fillna(10000)\n",
        "test_db['interior'] = test_db['color'].fillna('base5')"
      ]
    },
    {
      "cell_type": "code",
      "execution_count": null,
      "metadata": {
        "id": "1qaMtR-HKpqk"
      },
      "outputs": [],
      "source": [
        "from tqdm import tqdm\n",
        "for i in tqdm(range(1)):\n",
        "# заполняем пустые данные\n",
        "    train_db = change_transmission(train_db)\n",
        "    test_db = change_transmission(test_db)"
      ]
    },
    {
      "cell_type": "code",
      "execution_count": null,
      "metadata": {
        "id": "EX5HVEkEiKAG"
      },
      "outputs": [],
      "source": []
    },
    {
      "cell_type": "code",
      "execution_count": null,
      "metadata": {
        "id": "0SJSHzvJ1iO9"
      },
      "outputs": [],
      "source": [
        "# удаляем из тренировочной модели оставшиеся не значительные пустые признаки\n",
        "train_db = train_db.dropna(subset = ['make', 'model', 'body','trim', 'condition','color', 'odometer'])\n",
        "# test_db = test_db.dropna(subset = ['make', 'model', 'body','trim', 'condition','color', 'odometer'])\n"
      ]
    },
    {
      "cell_type": "code",
      "execution_count": null,
      "metadata": {
        "id": "vVA1XwGniKAH"
      },
      "outputs": [],
      "source": [
        "train_db.info()"
      ]
    },
    {
      "cell_type": "code",
      "execution_count": null,
      "metadata": {
        "id": "rDQN8fxsiKAI"
      },
      "outputs": [],
      "source": [
        "test_db.info()"
      ]
    },
    {
      "cell_type": "code",
      "execution_count": null,
      "metadata": {
        "id": "Ry0pCPaJiKAI"
      },
      "outputs": [],
      "source": [
        "train_db.info()"
      ]
    },
    {
      "cell_type": "code",
      "execution_count": null,
      "metadata": {
        "id": "9b9FAYaJIsY_"
      },
      "outputs": [],
      "source": [
        "# выделим колонки с типомаи данных int и object для удобства\n",
        "def int_or_object(data):\n",
        "    columns_int = []\n",
        "    columns_object = []\n",
        "    for i in data.columns:\n",
        "        if (data[i].dtype == np.float64 or data[i].dtype == np.int64):\n",
        "            columns_int.append(i)\n",
        "        else:\n",
        "            columns_object.append(i)\n",
        "    return columns_int, columns_object"
      ]
    },
    {
      "cell_type": "code",
      "execution_count": null,
      "metadata": {
        "id": "ifsXOUVMiwbv"
      },
      "outputs": [],
      "source": [
        "columns_int_tr, columns_object_tr = int_or_object(train_db)\n",
        "columns_int_test, columns_object_test = int_or_object(test_db)"
      ]
    },
    {
      "cell_type": "code",
      "execution_count": null,
      "metadata": {
        "id": "FcNpc1Sz0ntU"
      },
      "outputs": [],
      "source": [
        "# просмотр распределения значений в тренировочном датасете\n",
        "for i in columns_int_tr:\n",
        "   train_db.boxplot(i,figsize=(5, 5))\n",
        "   plt.show() #для устранения вывода массива с названиями гистрограмм"
      ]
    },
    {
      "cell_type": "code",
      "execution_count": null,
      "metadata": {
        "id": "tYHRw6U37J75"
      },
      "outputs": [],
      "source": [
        "# вырежем вбрсоовые данные\n",
        "train_db = train_db.loc[(train_db['year'] >= 2001) & (train_db['sellingprice'] <= 32500) & (train_db['odometer'] <= 180000)]"
      ]
    },
    {
      "cell_type": "code",
      "execution_count": null,
      "metadata": {
        "id": "lj6lvLPP1eoz"
      },
      "outputs": [],
      "source": [
        "# просмотр результа изменения датасета\n",
        "train_db.info()"
      ]
    },
    {
      "cell_type": "code",
      "execution_count": null,
      "metadata": {
        "id": "3vj_qq6TiKAJ"
      },
      "outputs": [],
      "source": [
        "test_db.info()"
      ]
    },
    {
      "cell_type": "code",
      "execution_count": null,
      "metadata": {
        "id": "qL6meBgOiKAJ"
      },
      "outputs": [],
      "source": [
        "columns_object_tr.remove('saledate')\n",
        "columns_object_test.remove('saledate')"
      ]
    },
    {
      "cell_type": "code",
      "execution_count": null,
      "metadata": {
        "id": "cEOae-pliKAJ"
      },
      "outputs": [],
      "source": [
        "for i in columns_object_tr:\n",
        "    train_db[i] = train_db[i].astype('str').str.lower()\n",
        "\n",
        "for i in columns_object_tr:\n",
        "    train_db[i] = train_db[i].astype('str').str.rstrip()\n",
        "\n",
        "for i in columns_object_test:\n",
        "    test_db[i] = test_db[i].astype('str').str.lower()\n",
        "\n",
        "for i in columns_object_test:\n",
        "    test_db[i] = test_db[i].astype('str').str.rstrip()"
      ]
    },
    {
      "cell_type": "code",
      "execution_count": null,
      "metadata": {
        "id": "FKxRyf0FHAwq"
      },
      "outputs": [],
      "source": [
        "# поиск неявных дубликатов\n",
        "for x in columns_object_tr:\n",
        "    print('Уникальные значения для столбца', x, train_db[x].sort_values().unique(), '\\n')"
      ]
    },
    {
      "cell_type": "code",
      "execution_count": null,
      "metadata": {
        "scrolled": true,
        "id": "lJG999xniKAK"
      },
      "outputs": [],
      "source": [
        "# %%time\n",
        "# for i in train_db['model'].unique():\n",
        "#     x = i.split(' ')\n",
        "#     if len(x) > 1:\n",
        "#         pass\n",
        "#     if len(x) > 2:\n",
        "#         row = x[0] + ' ' + x[-1]\n",
        "#         train_db.loc[train_db['model'] == i, 'model'] = row"
      ]
    },
    {
      "cell_type": "code",
      "execution_count": null,
      "metadata": {
        "id": "GkvgTUZJiKAK"
      },
      "outputs": [],
      "source": [
        "# %%time\n",
        "# for i in test_db['model'].unique():\n",
        "#     x = i.split(' ')\n",
        "#     if len(x) > 1:\n",
        "#         pass\n",
        "#     if len(x) > 2:\n",
        "#         row = x[0] + ' ' + x[-1]\n",
        "#         test_db.loc[test_db['model'] == i, 'model'] = row"
      ]
    },
    {
      "cell_type": "code",
      "execution_count": null,
      "metadata": {
        "id": "iEI8otPsKBjF"
      },
      "outputs": [],
      "source": [
        "# изменения неявных дубликатов\n",
        "train_db['color'] = train_db['color'].str.replace('—', 'Nan')\n",
        "train_db['interior'] = train_db['interior'].str.replace('—', 'Nan')\n",
        "train_db['trim'] = train_db['trim'].str.replace('!', 'Nan')\n",
        "train_db['trim'] = train_db['trim'].str.replace('+', 'Nan')\n",
        "\n",
        "train_db['model'] = train_db['model'].str.replace('1','1 Series')\n",
        "train_db['model'] = train_db['model'].str.replace('3','3 Series')\n",
        "train_db['model'] = train_db['model'].str.replace('300','300-Class')\n",
        "\n",
        "train_db['model'] = train_db['model'].str.replace('6','6 Series')\n",
        "\n",
        "train_db['make'] = train_db['make'].str.replace('6','6 Series')\n",
        "train_db['make'] = train_db['make'].str.replace('gmc truck','gmc')\n",
        "train_db['make'] = train_db['make'].str.replace('mazda tk','mazda')\n",
        "train_db['make'] = train_db['make'].str.replace('mercedes-b', 'mercedes-benz')\n",
        "train_db['make'] = train_db['make'].str.replace('mercedes', 'mercedes-benz')\n",
        "train_db['make'] = train_db['make'].str.replace('landrover','land rover')\n",
        "train_db['make'] = train_db['make'].str.replace('vw', 'volkswagen')\n",
        "train_db['make'] = train_db['make'].str.replace('Mercedes-Benzenz', 'mercedes-benz')\n",
        "train_db['make'] = train_db['make'].str.replace('chev truck', 'chevrolet')\n",
        "train_db['make'] = train_db['make'].str.replace('ford tk', 'ford')\n",
        "train_db['make'] = train_db['make'].str.replace('hyundai tk', 'hyundai' )\n",
        "train_db['make'] = train_db['make'].str.replace('mercedes-benz-benzenz-benzenz', 'mercedes-benz' )\n",
        "train_db['make'] = train_db['make'].str.replace('mercedes-benz-benzenz', 'mercedes-benz' )\n",
        "train_db['make'] = train_db['make'].str.replace('mercedes-benz-benz', 'mercedes-benz' )"
      ]
    },
    {
      "cell_type": "code",
      "execution_count": null,
      "metadata": {
        "id": "xXJaqS5yjHYF"
      },
      "outputs": [],
      "source": [
        "# поиск неявных дубликатов\n",
        "for x in columns_object_test:\n",
        "    print('Уникальные значения для столбца', x, test_db[x].sort_values().unique(), '\\n')"
      ]
    },
    {
      "cell_type": "code",
      "execution_count": null,
      "metadata": {
        "id": "tWDiscUfjKil"
      },
      "outputs": [],
      "source": [
        "# изменения неявных дубликатов\n",
        "test_db['color'] = test_db['color'].str.replace('—', 'Nan')\n",
        "test_db['interior'] = test_db['interior'].str.replace('—', 'Nan')\n",
        "test_db['trim'] = test_db['trim'].str.replace('!', 'Nan')\n",
        "test_db['trim'] = test_db['trim'].str.replace('+', 'Nan')\n",
        "\n",
        "test_db['model'] = test_db['model'].str.replace('1','1 Series')\n",
        "test_db['model'] = test_db['model'].str.replace('3','3 Series')\n",
        "test_db['model'] = test_db['model'].str.replace('300','300-Class')\n",
        "\n",
        "test_db['model'] = test_db['model'].str.replace('6','6 Series')\n",
        "\n",
        "test_db['make'] = test_db['make'].str.replace('6','6 Series')\n",
        "test_db['make'] = test_db['make'].str.replace('gmc truck','gmc')\n",
        "test_db['make'] = test_db['make'].str.replace('mazda tk','mazda')\n",
        "test_db['make'] = test_db['make'].str.replace('mercedes-b', 'mercedes-benz')\n",
        "test_db['make'] = test_db['make'].str.replace('mercedes', 'mercedes-benz')\n",
        "test_db['make'] = test_db['make'].str.replace('landrover','land rover')\n",
        "test_db['make'] = test_db['make'].str.replace('vw', 'volkswagen')\n",
        "test_db['make'] = test_db['make'].str.replace('Mercedes-Benzenz', 'mercedes-benz')\n",
        "test_db['make'] = test_db['make'].str.replace('chev truck', 'chevrolet')\n",
        "test_db['make'] = test_db['make'].str.replace('ford tk', 'ford')\n",
        "test_db['make'] = test_db['make'].str.replace('hyundai tk', 'hyundai' )\n",
        "test_db['make'] = test_db['make'].str.replace('mercedes-benz-benzenz-benzenz', 'mercedes-benz' )\n",
        "test_db['make'] = test_db['make'].str.replace('mercedes-benz-benzenz', 'mercedes-benz' )\n",
        "test_db['make'] = test_db['make'].str.replace('mercedes-benz-benz', 'mercedes-benz' )"
      ]
    },
    {
      "cell_type": "code",
      "execution_count": null,
      "metadata": {
        "id": "Sxv5bgy4AEaj"
      },
      "outputs": [],
      "source": [
        "# исследования наличия дубликатов в датасете\n",
        "train_db.duplicated().sum()"
      ]
    },
    {
      "cell_type": "code",
      "execution_count": null,
      "metadata": {
        "id": "mtrvW0UBA7OA"
      },
      "outputs": [],
      "source": [
        "def overwriting_saledate(data):\n",
        "    data['date'] = pd.to_datetime(data['saledate'], infer_datetime_format=True, utc=True)\n",
        "    data['date'] = data['date'].dt.date\n",
        "\n"
      ]
    },
    {
      "cell_type": "code",
      "execution_count": null,
      "metadata": {
        "id": "NXYf2N53_OVh"
      },
      "outputs": [],
      "source": [
        "train_db['saledate'] = overwriting_saledate(train_db)\n",
        "test_db['saledate'] = overwriting_saledate(test_db)"
      ]
    },
    {
      "cell_type": "code",
      "execution_count": null,
      "metadata": {
        "id": "QGGU7ZP2ReB3"
      },
      "outputs": [],
      "source": []
    },
    {
      "cell_type": "code",
      "execution_count": null,
      "metadata": {
        "id": "jSZIo07YiKAL"
      },
      "outputs": [],
      "source": []
    },
    {
      "cell_type": "code",
      "execution_count": null,
      "metadata": {
        "id": "OueQfNwbPjpx"
      },
      "outputs": [],
      "source": [
        "train_db = train_db.drop(columns=['saledate'], axis=1)\n",
        "train_db = train_db.rename(columns={\"date\": \"saledate\"})\n",
        "\n",
        "test_db = test_db.drop(columns=['saledate'], axis=1)\n",
        "test_db = test_db.rename(columns={\"date\": \"saledate\"})"
      ]
    },
    {
      "cell_type": "code",
      "execution_count": null,
      "metadata": {
        "id": "TXm0GyjtZkjO"
      },
      "outputs": [],
      "source": [
        "train_db['saledate'] = pd.to_datetime(train_db['saledate'], format = '%Y-%m-%d')\n",
        "test_db['saledate'] = pd.to_datetime(test_db['saledate'], format = '%Y-%m-%d')"
      ]
    },
    {
      "cell_type": "code",
      "execution_count": null,
      "metadata": {
        "id": "uHdm37MX-rAp"
      },
      "outputs": [],
      "source": [
        "train_db.head()"
      ]
    },
    {
      "cell_type": "code",
      "execution_count": null,
      "metadata": {
        "id": "6JUiWiNzO2er"
      },
      "outputs": [],
      "source": [
        "train_db.info()"
      ]
    },
    {
      "cell_type": "code",
      "execution_count": null,
      "metadata": {
        "id": "ju2tP-YaT-_k"
      },
      "outputs": [],
      "source": [
        "test_db.head()"
      ]
    },
    {
      "cell_type": "code",
      "execution_count": null,
      "metadata": {
        "id": "9Is6V9DFO2hO"
      },
      "outputs": [],
      "source": [
        "test_db.info()"
      ]
    },
    {
      "cell_type": "markdown",
      "metadata": {
        "id": "_tbnfkg4paAS"
      },
      "source": [
        "**Вывод:**"
      ]
    },
    {
      "cell_type": "markdown",
      "metadata": {
        "id": "tVZdN0ZC67Y9"
      },
      "source": [
        "###3. Изучение данных"
      ]
    },
    {
      "cell_type": "code",
      "execution_count": null,
      "metadata": {
        "id": "H9QDCNBLV8jJ"
      },
      "outputs": [],
      "source": [
        "train_db['age_car'] = train_db['saledate'].dt.year - train_db['year']\n",
        "test_db['age_car'] = test_db['saledate'].dt.year - test_db['year']"
      ]
    },
    {
      "cell_type": "code",
      "execution_count": null,
      "metadata": {
        "id": "NZivqzuJnYjs"
      },
      "outputs": [],
      "source": [
        "train_db.head(2)"
      ]
    },
    {
      "cell_type": "code",
      "execution_count": null,
      "metadata": {
        "id": "x21WhqN1kwWy"
      },
      "outputs": [],
      "source": [
        "# интенсивность использования\n",
        "train_db['Usage_Intensity'] = train_db['odometer'] / train_db['age_car']\n",
        "test_db['Usage_Intensity'] = test_db['odometer'] / test_db['age_car']"
      ]
    },
    {
      "cell_type": "code",
      "execution_count": null,
      "metadata": {
        "id": "f8i6WWbERPMl"
      },
      "outputs": [],
      "source": [
        "# тут возможна ошибка\n",
        "train_db.loc[train_db['Usage_Intensity'] <= 0, 'Usage_Intensity'] = 0\n",
        "test_db.loc[test_db['Usage_Intensity'] <= 0, 'Usage_Intensity'] = 0\n",
        "\n",
        "train_db['Usage_Intensity'] = train_db['Usage_Intensity'].replace([np.inf , -np.inf ], 0)\n",
        "test_db['Usage_Intensity'] = train_db['Usage_Intensity'].replace([np.inf , -np.inf ], 0)"
      ]
    },
    {
      "cell_type": "code",
      "execution_count": null,
      "metadata": {
        "id": "9myl25Y_iKAQ"
      },
      "outputs": [],
      "source": [
        "test_db['Usage_Intensity'] = test_db['Usage_Intensity'].fillna(0)"
      ]
    },
    {
      "cell_type": "code",
      "execution_count": null,
      "metadata": {
        "id": "tSCFCBwylP9Q"
      },
      "outputs": [],
      "source": [
        "# Получим списки автомобилей по происхождению\n",
        "american_cars = ['chevrolet', 'chrysler', 'gmc', 'cadillac',\n",
        "                 'ford', 'buick', 'jeep', 'lincoln', 'ram',\n",
        "                 'pontiac', 'dodge', 'hummer', 'plymouth', 'mercury',  'oldsmobile', 'plymouth','pontiac', 'saturn',\n",
        "                'gmc truck','geo', 'chev truck','tesla', 'fisker', 'ford tk']\n",
        "\n",
        "\n",
        "european_cars = ['mercedes-benz', 'mercedes', 'audi', 'bmw', 'lamborghini', 'porsche', 'volkswagen',\n",
        "                 'volvo', 'fiat', 'mini', 'Maserati', 'alfa romeo', 'ferrari', 'saab', 'smart', 'maserati',\n",
        "                'landrover', 'vw', 'mercedes-b']\n",
        "\n",
        "\n",
        "\n",
        "british_cars = ['land rover', 'mclaren', 'jaguar', 'aston martin', 'bentley', 'lotus', 'rolls-royce']\n",
        "\n",
        "\n",
        "\n",
        "asian_cars = ['hyundai', 'lexus',  'infiniti', 'mazda', 'toyota', 'genesis', 'kia',\n",
        "              'acura', 'nissan', 'honda', 'mitsubishi', 'scion', 'suzuki','hyundai tk',  'daewoo',  'subaru', 'scion', 'isuzu','mazda tk']\n",
        "base_cars = ['base1', 'base']\n",
        "\n",
        "origin_dict = {}\n",
        "for brand in american_cars:\n",
        "    origin_dict[brand] = 'American'\n",
        "\n",
        "for brand in european_cars:\n",
        "    origin_dict[brand] = 'European'\n",
        "\n",
        "for brand in british_cars:\n",
        "    origin_dict[brand] = 'British'\n",
        "\n",
        "for brand in asian_cars:\n",
        "    origin_dict[brand] = 'Asian'\n",
        "\n",
        "for brand in base_cars:\n",
        "    origin_dict[brand] = 'Base'\n",
        "\n",
        "train_db['Origin'] = np.vectorize(lambda x: origin_dict[x])(train_db['make'])\n",
        "test_db['Origin'] = np.vectorize(lambda x: origin_dict[x])(test_db['make'])"
      ]
    },
    {
      "cell_type": "code",
      "execution_count": null,
      "metadata": {
        "id": "MkxMzsOf-WBp"
      },
      "outputs": [],
      "source": [
        "train_db.head(2)"
      ]
    },
    {
      "cell_type": "code",
      "execution_count": null,
      "metadata": {
        "id": "QDk9FH38nxKh"
      },
      "outputs": [],
      "source": [
        "train_db['day'] = train_db['saledate'].dt.day\n",
        "train_db['month'] = train_db['saledate'].dt.month\n",
        "train_db['year_sale'] = train_db['saledate'].dt.year"
      ]
    },
    {
      "cell_type": "code",
      "execution_count": null,
      "metadata": {
        "id": "SxpPkfqApZkc"
      },
      "outputs": [],
      "source": [
        "test_db['day'] = test_db['saledate'].dt.day\n",
        "test_db['month'] = test_db['saledate'].dt.month\n",
        "test_db['year_sale'] = test_db['saledate'].dt.year"
      ]
    },
    {
      "cell_type": "code",
      "execution_count": null,
      "metadata": {
        "id": "FcAhdSlupIlz"
      },
      "outputs": [],
      "source": [
        "train_db.head(2)"
      ]
    },
    {
      "cell_type": "code",
      "execution_count": null,
      "metadata": {
        "id": "i-z51zL0pJnH"
      },
      "outputs": [],
      "source": [
        "train_db = train_db.drop('saledate', axis = 1)\n",
        "test_db = test_db.drop('saledate', axis = 1)"
      ]
    },
    {
      "cell_type": "code",
      "execution_count": null,
      "metadata": {
        "id": "-GNvP9-zrPOM"
      },
      "outputs": [],
      "source": [
        "train_db.head(2)"
      ]
    },
    {
      "cell_type": "code",
      "execution_count": null,
      "metadata": {
        "id": "aHu1G1HwtlWu"
      },
      "outputs": [],
      "source": [
        "train_db['lost_condition_on_1000'] = ((5 - train_db['condition']) / train_db['odometer'])  * 1000\n",
        "test_db['lost_condition_on_1000'] = ((5 - test_db['condition']) / test_db['odometer'])  * 1000\n"
      ]
    },
    {
      "cell_type": "code",
      "execution_count": null,
      "metadata": {
        "id": "Nn5POIv8uEPn"
      },
      "outputs": [],
      "source": [
        "train_db.head(2)"
      ]
    },
    {
      "cell_type": "code",
      "execution_count": null,
      "metadata": {
        "id": "tdCI6FFqrUbm"
      },
      "outputs": [],
      "source": [
        "# condition / odometer  за каждый километр\n",
        "# condition / odometer  * 1000 за каждую 1000 километров"
      ]
    },
    {
      "cell_type": "markdown",
      "metadata": {
        "id": "NcR-f1plGTaq"
      },
      "source": [
        "# Изучение лучших моделей обучения"
      ]
    },
    {
      "cell_type": "code",
      "execution_count": null,
      "metadata": {
        "id": "JO7u4IyJiKAS"
      },
      "outputs": [],
      "source": [
        "def save_db(data, name):\n",
        "    path = str(name) + '.csv'\n",
        "    filepath = Path(path)\n",
        "    filepath.parent.mkdir(parents=True, exist_ok=True)\n",
        "    data.to_csv(filepath, index=False)"
      ]
    },
    {
      "cell_type": "code",
      "execution_count": null,
      "metadata": {
        "id": "VKcME49NiKAS"
      },
      "outputs": [],
      "source": [
        "# save_db(train_db, 'train_db')\n",
        "# save_db(test_db, 'test_db')"
      ]
    },
    {
      "cell_type": "code",
      "execution_count": null,
      "metadata": {
        "id": "DHq95i3NiKAS"
      },
      "outputs": [],
      "source": [
        "train_db = pd.read_csv('train_db.csv')\n",
        "test_db = pd.read_csv('test_db.csv')"
      ]
    },
    {
      "cell_type": "code",
      "execution_count": null,
      "metadata": {
        "id": "YTXjdlvmiKAS",
        "outputId": "dfef4624-2fdf-4ff3-cb1c-3d412cd4df08"
      },
      "outputs": [
        {
          "data": {
            "text/plain": [
              "(110058,)"
            ]
          },
          "execution_count": 78,
          "metadata": {},
          "output_type": "execute_result"
        }
      ],
      "source": [
        "# target_full\n",
        "main_target_vin = pd.DataFrame()\n",
        "main_target_vin = test_db['vin']\n",
        "main_target_vin.shape"
      ]
    },
    {
      "cell_type": "code",
      "execution_count": null,
      "metadata": {
        "id": "3D5lJNMUGlDc",
        "outputId": "10e89089-f4cb-4f6c-cc97-9ea8b713e34e"
      },
      "outputs": [
        {
          "name": "stdout",
          "output_type": "stream",
          "text": [
            "<class 'pandas.core.frame.DataFrame'>\n",
            "RangeIndex: 398187 entries, 0 to 398186\n",
            "Data columns (total 22 columns):\n",
            " #   Column                  Non-Null Count   Dtype  \n",
            "---  ------                  --------------   -----  \n",
            " 0   Unnamed: 0              398187 non-null  int64  \n",
            " 1   year                    398187 non-null  int64  \n",
            " 2   make                    398187 non-null  object \n",
            " 3   model                   398187 non-null  object \n",
            " 4   trim                    398187 non-null  object \n",
            " 5   body                    398187 non-null  object \n",
            " 6   transmission            398187 non-null  object \n",
            " 7   vin                     398187 non-null  object \n",
            " 8   state                   398187 non-null  object \n",
            " 9   condition               398187 non-null  float64\n",
            " 10  odometer                398187 non-null  float64\n",
            " 11  color                   398187 non-null  object \n",
            " 12  interior                398187 non-null  object \n",
            " 13  seller                  398187 non-null  object \n",
            " 14  sellingprice            398187 non-null  int64  \n",
            " 15  age_car                 398187 non-null  int64  \n",
            " 16  Usage_Intensity         398187 non-null  float64\n",
            " 17  Origin                  398187 non-null  object \n",
            " 18  day                     398187 non-null  int64  \n",
            " 19  month                   398187 non-null  int64  \n",
            " 20  year_sale               398187 non-null  int64  \n",
            " 21  lost_condition_on_1000  398187 non-null  float64\n",
            "dtypes: float64(4), int64(7), object(11)\n",
            "memory usage: 66.8+ MB\n"
          ]
        }
      ],
      "source": [
        "train_db.info()"
      ]
    },
    {
      "cell_type": "code",
      "execution_count": null,
      "metadata": {
        "id": "hm7X35rAiKAT",
        "outputId": "7e8936a8-cb54-4dfc-d558-2c850188a751"
      },
      "outputs": [
        {
          "name": "stdout",
          "output_type": "stream",
          "text": [
            "<class 'pandas.core.frame.DataFrame'>\n",
            "RangeIndex: 110058 entries, 0 to 110057\n",
            "Data columns (total 21 columns):\n",
            " #   Column                  Non-Null Count   Dtype  \n",
            "---  ------                  --------------   -----  \n",
            " 0   Unnamed: 0              110058 non-null  int64  \n",
            " 1   year                    110058 non-null  int64  \n",
            " 2   make                    110058 non-null  object \n",
            " 3   model                   110058 non-null  object \n",
            " 4   trim                    110058 non-null  object \n",
            " 5   body                    110058 non-null  object \n",
            " 6   transmission            110058 non-null  object \n",
            " 7   vin                     110058 non-null  object \n",
            " 8   state                   110058 non-null  object \n",
            " 9   condition               110058 non-null  float64\n",
            " 10  odometer                110058 non-null  float64\n",
            " 11  color                   110058 non-null  object \n",
            " 12  interior                110058 non-null  object \n",
            " 13  seller                  110058 non-null  object \n",
            " 14  age_car                 110058 non-null  int64  \n",
            " 15  Usage_Intensity         110058 non-null  float64\n",
            " 16  Origin                  110058 non-null  object \n",
            " 17  day                     110058 non-null  int64  \n",
            " 18  month                   110058 non-null  int64  \n",
            " 19  year_sale               110058 non-null  int64  \n",
            " 20  lost_condition_on_1000  110058 non-null  float64\n",
            "dtypes: float64(4), int64(6), object(11)\n",
            "memory usage: 17.6+ MB\n"
          ]
        }
      ],
      "source": [
        "test_db.info()"
      ]
    },
    {
      "cell_type": "code",
      "execution_count": null,
      "metadata": {
        "id": "dbNaAZ3XiKAT"
      },
      "outputs": [],
      "source": [
        "test_db = test_db.drop('Unnamed: 0', axis = 1)\n",
        "train_db = train_db.drop('Unnamed: 0', axis = 1)"
      ]
    },
    {
      "cell_type": "code",
      "execution_count": null,
      "metadata": {
        "id": "ZkZvV80uIntM",
        "outputId": "6f32992b-2b45-41a3-d16d-e5c1b532f832"
      },
      "outputs": [
        {
          "data": {
            "text/html": [
              "<div>\n",
              "<style scoped>\n",
              "    .dataframe tbody tr th:only-of-type {\n",
              "        vertical-align: middle;\n",
              "    }\n",
              "\n",
              "    .dataframe tbody tr th {\n",
              "        vertical-align: top;\n",
              "    }\n",
              "\n",
              "    .dataframe thead th {\n",
              "        text-align: right;\n",
              "    }\n",
              "</style>\n",
              "<table border=\"1\" class=\"dataframe\">\n",
              "  <thead>\n",
              "    <tr style=\"text-align: right;\">\n",
              "      <th></th>\n",
              "      <th>year</th>\n",
              "      <th>make</th>\n",
              "      <th>model</th>\n",
              "      <th>trim</th>\n",
              "      <th>body</th>\n",
              "      <th>transmission</th>\n",
              "      <th>vin</th>\n",
              "      <th>state</th>\n",
              "      <th>condition</th>\n",
              "      <th>odometer</th>\n",
              "      <th>...</th>\n",
              "      <th>interior</th>\n",
              "      <th>seller</th>\n",
              "      <th>sellingprice</th>\n",
              "      <th>age_car</th>\n",
              "      <th>Usage_Intensity</th>\n",
              "      <th>Origin</th>\n",
              "      <th>day</th>\n",
              "      <th>month</th>\n",
              "      <th>year_sale</th>\n",
              "      <th>lost_condition_on_1000</th>\n",
              "    </tr>\n",
              "  </thead>\n",
              "  <tbody>\n",
              "    <tr>\n",
              "      <th>0</th>\n",
              "      <td>2011</td>\n",
              "      <td>ford</td>\n",
              "      <td>edge</td>\n",
              "      <td>sel</td>\n",
              "      <td>suv</td>\n",
              "      <td>automatic</td>\n",
              "      <td>2fmdk3jc4bba41556</td>\n",
              "      <td>md</td>\n",
              "      <td>4.2</td>\n",
              "      <td>111041.0</td>\n",
              "      <td>...</td>\n",
              "      <td>black</td>\n",
              "      <td>santander consumer</td>\n",
              "      <td>12500</td>\n",
              "      <td>4</td>\n",
              "      <td>27760.25</td>\n",
              "      <td>American</td>\n",
              "      <td>1</td>\n",
              "      <td>6</td>\n",
              "      <td>2015</td>\n",
              "      <td>0.007205</td>\n",
              "    </tr>\n",
              "    <tr>\n",
              "      <th>1</th>\n",
              "      <td>2014</td>\n",
              "      <td>ford</td>\n",
              "      <td>fusion</td>\n",
              "      <td>se</td>\n",
              "      <td>sedan</td>\n",
              "      <td>automatic</td>\n",
              "      <td>3fa6p0h75er208976</td>\n",
              "      <td>mo</td>\n",
              "      <td>3.5</td>\n",
              "      <td>31034.0</td>\n",
              "      <td>...</td>\n",
              "      <td>black</td>\n",
              "      <td>ars/avis budget group</td>\n",
              "      <td>14500</td>\n",
              "      <td>1</td>\n",
              "      <td>31034.00</td>\n",
              "      <td>American</td>\n",
              "      <td>24</td>\n",
              "      <td>2</td>\n",
              "      <td>2015</td>\n",
              "      <td>0.048334</td>\n",
              "    </tr>\n",
              "  </tbody>\n",
              "</table>\n",
              "<p>2 rows × 21 columns</p>\n",
              "</div>"
            ],
            "text/plain": [
              "   year  make   model trim   body transmission                vin state  \\\n",
              "0  2011  ford    edge  sel    suv    automatic  2fmdk3jc4bba41556    md   \n",
              "1  2014  ford  fusion   se  sedan    automatic  3fa6p0h75er208976    mo   \n",
              "\n",
              "   condition  odometer  ... interior                 seller sellingprice  \\\n",
              "0        4.2  111041.0  ...    black     santander consumer        12500   \n",
              "1        3.5   31034.0  ...    black  ars/avis budget group        14500   \n",
              "\n",
              "   age_car  Usage_Intensity    Origin day  month  year_sale  \\\n",
              "0        4         27760.25  American   1      6       2015   \n",
              "1        1         31034.00  American  24      2       2015   \n",
              "\n",
              "   lost_condition_on_1000  \n",
              "0                0.007205  \n",
              "1                0.048334  \n",
              "\n",
              "[2 rows x 21 columns]"
            ]
          },
          "metadata": {},
          "output_type": "display_data"
        }
      ],
      "source": [
        "display(train_db.head(2))"
      ]
    },
    {
      "cell_type": "code",
      "execution_count": null,
      "metadata": {
        "id": "dV4bEvWJKhlh"
      },
      "outputs": [],
      "source": [
        "def split_data_to_ml(data, to_drop, target):\n",
        "    '''функция делит датасеты на параметры и таргет'''\n",
        "    features = data.drop(to_drop, axis = 1)\n",
        "    target = data[target]\n",
        "\n",
        "    return features, target\n"
      ]
    },
    {
      "cell_type": "code",
      "execution_count": null,
      "metadata": {
        "id": "AKon-3w4KuIp"
      },
      "outputs": [],
      "source": []
    },
    {
      "cell_type": "code",
      "execution_count": null,
      "metadata": {
        "id": "egvlOS0SiKAU",
        "outputId": "8320f216-c040-4393-9d72-96eaa4eda308"
      },
      "outputs": [
        {
          "name": "stdout",
          "output_type": "stream",
          "text": [
            "<class 'pandas.core.frame.DataFrame'>\n",
            "RangeIndex: 398187 entries, 0 to 398186\n",
            "Data columns (total 21 columns):\n",
            " #   Column                  Non-Null Count   Dtype  \n",
            "---  ------                  --------------   -----  \n",
            " 0   year                    398187 non-null  int64  \n",
            " 1   make                    398187 non-null  object \n",
            " 2   model                   398187 non-null  object \n",
            " 3   trim                    398187 non-null  object \n",
            " 4   body                    398187 non-null  object \n",
            " 5   transmission            398187 non-null  object \n",
            " 6   vin                     398187 non-null  object \n",
            " 7   state                   398187 non-null  object \n",
            " 8   condition               398187 non-null  float64\n",
            " 9   odometer                398187 non-null  float64\n",
            " 10  color                   398187 non-null  object \n",
            " 11  interior                398187 non-null  object \n",
            " 12  seller                  398187 non-null  object \n",
            " 13  sellingprice            398187 non-null  int64  \n",
            " 14  age_car                 398187 non-null  int64  \n",
            " 15  Usage_Intensity         398187 non-null  float64\n",
            " 16  Origin                  398187 non-null  object \n",
            " 17  day                     398187 non-null  int64  \n",
            " 18  month                   398187 non-null  int64  \n",
            " 19  year_sale               398187 non-null  int64  \n",
            " 20  lost_condition_on_1000  398187 non-null  float64\n",
            "dtypes: float64(4), int64(6), object(11)\n",
            "memory usage: 63.8+ MB\n"
          ]
        }
      ],
      "source": [
        "train_db.info()"
      ]
    },
    {
      "cell_type": "code",
      "execution_count": null,
      "metadata": {
        "id": "WOHOu9FBiKAU"
      },
      "outputs": [],
      "source": []
    },
    {
      "cell_type": "code",
      "execution_count": null,
      "metadata": {
        "id": "1bx3hccMKomz"
      },
      "outputs": [],
      "source": [
        "# НУЖЕН МОЩНЫЙ КОМП ЧТО БЫ ЗАКОДИРОВАТЬ ВСЕ КАТЕГОРИАЛЬНЫЕ ПРИЗНАКИ\n",
        "# деление датасета на признаки и таргет\n",
        "features, target = split_data_to_ml(\n",
        "    train_db, ['sellingprice', 'vin','make', 'model', 'trim','body', 'state', 'color', 'interior', 'seller'], 'sellingprice')\n",
        "\n",
        "test_db = test_db.drop(['vin','make', 'model', 'body', 'trim','state', 'color', 'interior', 'seller'], axis = 1)"
      ]
    },
    {
      "cell_type": "code",
      "execution_count": null,
      "metadata": {
        "colab": {
          "base_uri": "https://localhost:8080/"
        },
        "id": "S-P23GcKOn-e",
        "outputId": "95fb4884-ce0b-46e6-ea16-78c35bc1eb70"
      },
      "outputs": [
        {
          "name": "stdout",
          "output_type": "stream",
          "text": [
            "<class 'pandas.core.frame.DataFrame'>\n",
            "RangeIndex: 398187 entries, 0 to 398186\n",
            "Data columns (total 11 columns):\n",
            " #   Column                  Non-Null Count   Dtype  \n",
            "---  ------                  --------------   -----  \n",
            " 0   year                    398187 non-null  int64  \n",
            " 1   transmission            398187 non-null  object \n",
            " 2   condition               398187 non-null  float64\n",
            " 3   odometer                398187 non-null  float64\n",
            " 4   age_car                 398187 non-null  int64  \n",
            " 5   Usage_Intensity         398187 non-null  float64\n",
            " 6   Origin                  398187 non-null  object \n",
            " 7   day                     398187 non-null  int64  \n",
            " 8   month                   398187 non-null  int64  \n",
            " 9   year_sale               398187 non-null  int64  \n",
            " 10  lost_condition_on_1000  398187 non-null  float64\n",
            "dtypes: float64(4), int64(5), object(2)\n",
            "memory usage: 33.4+ MB\n"
          ]
        }
      ],
      "source": [
        "features.info()"
      ]
    },
    {
      "cell_type": "code",
      "execution_count": null,
      "metadata": {
        "id": "ENDgsgvQiKAV",
        "outputId": "7960981c-ed53-4143-c17e-ade2d5ad8dd2"
      },
      "outputs": [
        {
          "name": "stdout",
          "output_type": "stream",
          "text": [
            "<class 'pandas.core.frame.DataFrame'>\n",
            "RangeIndex: 110058 entries, 0 to 110057\n",
            "Data columns (total 11 columns):\n",
            " #   Column                  Non-Null Count   Dtype  \n",
            "---  ------                  --------------   -----  \n",
            " 0   year                    110058 non-null  int64  \n",
            " 1   transmission            110058 non-null  object \n",
            " 2   condition               110058 non-null  float64\n",
            " 3   odometer                110058 non-null  float64\n",
            " 4   age_car                 110058 non-null  int64  \n",
            " 5   Usage_Intensity         110058 non-null  float64\n",
            " 6   Origin                  110058 non-null  object \n",
            " 7   day                     110058 non-null  int64  \n",
            " 8   month                   110058 non-null  int64  \n",
            " 9   year_sale               110058 non-null  int64  \n",
            " 10  lost_condition_on_1000  110058 non-null  float64\n",
            "dtypes: float64(4), int64(5), object(2)\n",
            "memory usage: 9.2+ MB\n"
          ]
        }
      ],
      "source": [
        "test_db.info()"
      ]
    },
    {
      "cell_type": "code",
      "execution_count": null,
      "metadata": {
        "id": "N5JR6K9aLpuL"
      },
      "outputs": [],
      "source": [
        "# деление датасета train на тренировочную и вилдационную выборку\n",
        "features_train, features_valid, target_train, target_valid = train_test_split(\n",
        "   features, target, test_size=0.30, random_state = 12345, shuffle = True)\n"
      ]
    },
    {
      "cell_type": "code",
      "execution_count": null,
      "metadata": {
        "id": "qUhvg77XOhnc"
      },
      "outputs": [],
      "source": [
        "# features_train = features_train.drop('Unnamed: 0', axis = 1)\n",
        "# features_valid = features_valid.drop('Unnamed: 0', axis = 1)\n"
      ]
    },
    {
      "cell_type": "code",
      "execution_count": null,
      "metadata": {
        "colab": {
          "base_uri": "https://localhost:8080/",
          "height": 342
        },
        "id": "uNambNjrHDi8",
        "outputId": "082e628f-4381-4f67-d3ce-0249fcc0d3a9"
      },
      "outputs": [
        {
          "data": {
            "text/plain": [
              "['transmission', 'Origin']"
            ]
          },
          "execution_count": 90,
          "metadata": {},
          "output_type": "execute_result"
        }
      ],
      "source": [
        "#категориальные признаки\n",
        "ohe_features = features_train.select_dtypes(include='object').columns.to_list()\n",
        "ohe_features"
      ]
    },
    {
      "cell_type": "code",
      "execution_count": null,
      "metadata": {
        "colab": {
          "base_uri": "https://localhost:8080/"
        },
        "id": "YS_pJrJnHmQg",
        "outputId": "1b059151-a339-45c2-f377-aac33bcf3ab1"
      },
      "outputs": [
        {
          "data": {
            "text/plain": [
              "['year',\n",
              " 'condition',\n",
              " 'odometer',\n",
              " 'age_car',\n",
              " 'Usage_Intensity',\n",
              " 'day',\n",
              " 'month',\n",
              " 'year_sale',\n",
              " 'lost_condition_on_1000']"
            ]
          },
          "execution_count": 91,
          "metadata": {},
          "output_type": "execute_result"
        }
      ],
      "source": [
        "#численные признаки\n",
        "num_features = features_train.select_dtypes(exclude='object').columns.to_list()\n",
        "\n",
        "num_features"
      ]
    },
    {
      "cell_type": "code",
      "execution_count": null,
      "metadata": {
        "colab": {
          "base_uri": "https://localhost:8080/",
          "height": 457
        },
        "id": "tY8UPzqnLpwz",
        "outputId": "2e7ce0c3-b238-486a-cbd5-f4d2d9cc1d36"
      },
      "outputs": [
        {
          "name": "stdout",
          "output_type": "stream",
          "text": [
            "CPU times: total: 734 ms\n",
            "Wall time: 750 ms\n"
          ]
        },
        {
          "data": {
            "text/plain": [
              "(278730, 14)"
            ]
          },
          "execution_count": 92,
          "metadata": {},
          "output_type": "execute_result"
        }
      ],
      "source": [
        "%%time\n",
        "# кодирование данных техникой OHE\n",
        "encoder_ohe = OneHotEncoder(drop='first', handle_unknown='error', sparse=False)\n",
        "\n",
        "# обучаем энкодер\n",
        "encoder_ohe.fit(features_train[ohe_features])\n",
        "\n",
        "# добавляем закодированные признаки датасет\n",
        "\n",
        "features_train[\n",
        "    encoder_ohe.get_feature_names_out()\n",
        "] = encoder_ohe.transform(features_train[ohe_features])\n",
        "\n",
        "# удаляем незакодированные категориальные признаки\n",
        "features_train = features_train.drop(ohe_features, axis=1)\n",
        "\n",
        "#скелер\n",
        "scaler = StandardScaler()\n",
        "\n",
        "# обучаем его\n",
        "features_train[num_features] = scaler.fit_transform(features_train[num_features])\n",
        "\n",
        "features_train.head()\n",
        "features_train.shape"
      ]
    },
    {
      "cell_type": "code",
      "execution_count": null,
      "metadata": {
        "id": "tmcC1h_TLpzY",
        "outputId": "ab21f255-61e0-401d-a685-94bce0a139c2"
      },
      "outputs": [
        {
          "name": "stdout",
          "output_type": "stream",
          "text": [
            "CPU times: total: 312 ms\n",
            "Wall time: 311 ms\n"
          ]
        },
        {
          "data": {
            "text/plain": [
              "(119457, 14)"
            ]
          },
          "execution_count": 93,
          "metadata": {},
          "output_type": "execute_result"
        }
      ],
      "source": [
        "%%time\n",
        "# энкодером, который обучен на ТРЕНИРОВОЧНОЙ ВЫБОРКЕ, кодируем тестовую\n",
        "\n",
        "features_valid[\n",
        "    encoder_ohe.get_feature_names_out()\n",
        "] = encoder_ohe.transform(features_valid[ohe_features])\n",
        "\n",
        "features_valid = features_valid.drop(ohe_features, axis=1)\n",
        "\n",
        "# скелером масштабируем тестовую\n",
        "features_valid[num_features] = scaler.transform(\n",
        "    features_valid[num_features]\n",
        ")\n",
        "\n",
        "# смотрим на результат\n",
        "features_valid.head()\n",
        "features_valid.shape"
      ]
    },
    {
      "cell_type": "code",
      "execution_count": null,
      "metadata": {
        "id": "RLfTulmKiKAW",
        "outputId": "d2b80afa-c416-4522-acd2-6a7cdb6e4dc8"
      },
      "outputs": [
        {
          "name": "stdout",
          "output_type": "stream",
          "text": [
            "CPU times: total: 266 ms\n",
            "Wall time: 270 ms\n"
          ]
        },
        {
          "data": {
            "text/plain": [
              "(110058, 14)"
            ]
          },
          "execution_count": 94,
          "metadata": {},
          "output_type": "execute_result"
        }
      ],
      "source": [
        "%%time\n",
        "\n",
        "test_db[\n",
        "    encoder_ohe.get_feature_names_out()\n",
        "] = encoder_ohe.transform(test_db[ohe_features])\n",
        "\n",
        "# удаляем незакодированные категориальные признаки\n",
        "test_db = test_db.drop(ohe_features, axis=1)\n",
        "\n",
        "\n",
        "# обучаем его\n",
        "test_db[num_features] = scaler.transform(test_db[num_features])\n",
        "\n",
        "test_db.head()\n",
        "test_db.shape"
      ]
    },
    {
      "cell_type": "markdown",
      "metadata": {
        "id": "lID4DlGpiKAW"
      },
      "source": [
        "План реализации ML\n",
        "Пробую модели:\n",
        "- RF regression\n",
        "- Регрессия LASSO\n",
        "- Гребневая регрессия (ридж-регрессия)\n",
        "- Регрессия ElasticNet\n",
        "- GradientBoostingRegressor\n",
        "- catboost\n"
      ]
    },
    {
      "cell_type": "markdown",
      "metadata": {
        "id": "Z5KmS-G1iKAW"
      },
      "source": [
        "https://habr.com/ru/companies/vk/articles/513842/"
      ]
    },
    {
      "cell_type": "code",
      "execution_count": null,
      "metadata": {
        "id": "Z6eacvk0iKAX"
      },
      "outputs": [],
      "source": [
        "from sklearn.metrics import mean_absolute_percentage_error"
      ]
    },
    {
      "cell_type": "code",
      "execution_count": null,
      "metadata": {
        "id": "VhfJygssiKAX"
      },
      "outputs": [],
      "source": [
        "from sklearn.ensemble import RandomForestRegressor"
      ]
    },
    {
      "cell_type": "code",
      "execution_count": null,
      "metadata": {
        "id": "G4dtiXMbiKAX",
        "outputId": "c30a6a4d-33bb-4e3b-bdda-171640729088"
      },
      "outputs": [
        {
          "name": "stdout",
          "output_type": "stream",
          "text": [
            "RMSE наилучшей модели на валидационной выборке: 0.41276489360638474\n",
            "CPU times: total: 46.7 s\n",
            "Wall time: 48.6 s\n"
          ]
        }
      ],
      "source": [
        "%%time\n",
        "model = RandomForestRegressor(random_state = 12345, n_estimators = 40, max_depth = 10) #  инициализируйте модель с наилучшим значением метрики RMSE\n",
        "model.fit(features_train, target_train) # обучите модель на тренировочной выборке\n",
        "predictions_valid = model.predict(features_valid) # получите предсказания модели на валидационной выборке\n",
        "\n",
        "result = mean_absolute_percentage_error(target_valid, predictions_valid) # посчитайте значение метрики RMSE на валидационной выборке\n",
        "print(\"RMSE наилучшей модели на валидационной выборке:\", result)"
      ]
    },
    {
      "cell_type": "code",
      "execution_count": null,
      "metadata": {
        "id": "cN6aMQFTiKAX"
      },
      "outputs": [],
      "source": [
        "from sklearn.linear_model import LassoCV"
      ]
    },
    {
      "cell_type": "code",
      "execution_count": null,
      "metadata": {
        "id": "7fHzDtCQiKAX",
        "outputId": "991479dc-319b-4ca4-9940-28b79fb6cfd6"
      },
      "outputs": [
        {
          "name": "stdout",
          "output_type": "stream",
          "text": [
            "RMSE наилучшей модели на валидационной выборке: 0.4488781863658132\n",
            "CPU times: total: 4.31 s\n",
            "Wall time: 2.47 s\n"
          ]
        }
      ],
      "source": [
        "%%time\n",
        "model = LassoCV(random_state = 12345)\n",
        "model.fit(features_train, target_train)\n",
        "predictions_valid = model.predict(features_valid)\n",
        "\n",
        "result = mean_absolute_percentage_error(target_valid, predictions_valid) # посчитайте значение метрики RMSE на валидационной выборке\n",
        "print(\"RMSE наилучшей модели на валидационной выборке:\", result)"
      ]
    },
    {
      "cell_type": "code",
      "execution_count": null,
      "metadata": {
        "id": "B8nq0VJgiKAY"
      },
      "outputs": [],
      "source": []
    },
    {
      "cell_type": "code",
      "execution_count": null,
      "metadata": {
        "id": "4Zp3fMKsiKAY"
      },
      "outputs": [],
      "source": []
    },
    {
      "cell_type": "code",
      "execution_count": null,
      "metadata": {
        "id": "gAWuYOfriKAY"
      },
      "outputs": [],
      "source": [
        "from sklearn.linear_model import RidgeCV\n"
      ]
    },
    {
      "cell_type": "code",
      "execution_count": null,
      "metadata": {
        "id": "_Kr--d4YiKAY",
        "outputId": "c90a1061-a5be-44f9-821b-c815b0fef442"
      },
      "outputs": [
        {
          "name": "stdout",
          "output_type": "stream",
          "text": [
            "RMSE наилучшей модели на валидационной выборке: 0.44918798509328395\n",
            "CPU times: total: 375 ms\n",
            "Wall time: 230 ms\n"
          ]
        }
      ],
      "source": [
        "%%time\n",
        "model = RidgeCV()\n",
        "model.fit(features_train, target_train)\n",
        "predictions_valid = model.predict(features_valid)\n",
        "\n",
        "result = mean_absolute_percentage_error(target_valid, predictions_valid) # посчитайте значение метрики RMSE на валидационной выборке\n",
        "print(\"RMSE наилучшей модели на валидационной выборке:\", result)"
      ]
    },
    {
      "cell_type": "code",
      "execution_count": null,
      "metadata": {
        "id": "uDnBRS-miKAY"
      },
      "outputs": [],
      "source": []
    },
    {
      "cell_type": "code",
      "execution_count": null,
      "metadata": {
        "id": "wVvhkm24iKAY"
      },
      "outputs": [],
      "source": []
    },
    {
      "cell_type": "code",
      "execution_count": null,
      "metadata": {
        "id": "GkQpFoSQiKAZ"
      },
      "outputs": [],
      "source": []
    },
    {
      "cell_type": "code",
      "execution_count": null,
      "metadata": {
        "id": "XEJLPUpgiKAZ"
      },
      "outputs": [],
      "source": []
    },
    {
      "cell_type": "code",
      "execution_count": null,
      "metadata": {
        "id": "O_NktF2wiKAZ",
        "outputId": "a7454f5f-b704-4a51-b91c-8ef64913c6ee"
      },
      "outputs": [
        {
          "name": "stdout",
          "output_type": "stream",
          "text": [
            "RMSE наилучшей модели на валидационной выборке: 0.44918799262534614\n",
            "CPU times: total: 109 ms\n",
            "Wall time: 70.5 ms\n"
          ]
        }
      ],
      "source": [
        "%%time\n",
        "model = Ridge()\n",
        "model.fit(features_train, target_train)\n",
        "predictions_valid = model.predict(features_valid)\n",
        "\n",
        "result = mean_absolute_percentage_error(target_valid, predictions_valid) # посчитайте значение метрики RMSE на валидационной выборке\n",
        "print(\"RMSE наилучшей модели на валидационной выборке:\", result)"
      ]
    },
    {
      "cell_type": "code",
      "execution_count": null,
      "metadata": {
        "id": "W81jLJFziKAZ"
      },
      "outputs": [],
      "source": [
        "from sklearn.linear_model import ElasticNetCV"
      ]
    },
    {
      "cell_type": "code",
      "execution_count": null,
      "metadata": {
        "id": "lTV6Jg4CiKAZ",
        "outputId": "a2ea52e6-b65a-4606-a9e3-5f75c998d468"
      },
      "outputs": [
        {
          "name": "stdout",
          "output_type": "stream",
          "text": [
            "RMSE наилучшей модели на валидационной выборке: 0.8340861424833989\n",
            "CPU times: total: 1.55 s\n",
            "Wall time: 1.42 s\n"
          ]
        }
      ],
      "source": [
        "%%time\n",
        "model = ElasticNetCV(random_state = 12345)\n",
        "model.fit(features_train, target_train)\n",
        "predictions_valid = model.predict(features_valid)\n",
        "\n",
        "result = mean_absolute_percentage_error(target_valid, predictions_valid) # посчитайте значение метрики RMSE на валидационной выборке\n",
        "print(\"RMSE наилучшей модели на валидационной выборке:\", result)\n"
      ]
    },
    {
      "cell_type": "code",
      "execution_count": null,
      "metadata": {
        "id": "LgkE127QiKAZ"
      },
      "outputs": [],
      "source": [
        "from sklearn.ensemble import GradientBoostingRegressor"
      ]
    },
    {
      "cell_type": "code",
      "execution_count": null,
      "metadata": {
        "id": "ViHeesqEiKAZ",
        "outputId": "fd1bdd7e-9599-469d-e8f7-46517c87a465"
      },
      "outputs": [
        {
          "name": "stdout",
          "output_type": "stream",
          "text": [
            "RMSE наилучшей модели на валидационной выборке: 0.41458929270232164\n",
            "CPU times: total: 55.4 s\n",
            "Wall time: 57.1 s\n"
          ]
        }
      ],
      "source": [
        "%%time\n",
        "model = GradientBoostingRegressor(random_state = 12345)\n",
        "model.fit(features_train, target_train)\n",
        "predictions_valid = model.predict(features_valid)\n",
        "\n",
        "result = mean_absolute_percentage_error(target_valid, predictions_valid) # посчитайте значение метрики RMSE на валидационной выборке\n",
        "print(\"RMSE наилучшей модели на валидационной выборке:\", result)"
      ]
    },
    {
      "cell_type": "code",
      "execution_count": null,
      "metadata": {
        "id": "CbXj68ApiKAa"
      },
      "outputs": [],
      "source": []
    },
    {
      "cell_type": "code",
      "execution_count": null,
      "metadata": {
        "id": "iu5ULKGoiKAa"
      },
      "outputs": [],
      "source": []
    },
    {
      "cell_type": "code",
      "execution_count": null,
      "metadata": {
        "id": "GAUXRaPniKAa"
      },
      "outputs": [],
      "source": [
        "from catboost import CatBoostRegressor\n",
        "# https://github.com/catboost/tutorials/blob/master/python_tutorial.ipynb"
      ]
    },
    {
      "cell_type": "code",
      "execution_count": null,
      "metadata": {
        "id": "iLQVR1C0iKAa"
      },
      "outputs": [],
      "source": [
        "cb_learn_rate = 0.006\n",
        "n_iterations = 80000\n",
        "early_stop_rounds = 400\n",
        "\n",
        "opt_catboost_params = {'iterations' : n_iterations,\n",
        "                       'learning_rate' : cb_learn_rate,\n",
        "                       'depth': 7,\n",
        "                       'bootstrap_type' : 'Bernoulli',\n",
        "                       'random_strength': 1,\n",
        "                       'min_data_in_leaf': 10,\n",
        "                       'l2_leaf_reg': 3,\n",
        "                       'loss_function' : 'MAPE',\n",
        "                       'eval_metric' : 'MAPE',\n",
        "                       'grow_policy' : 'Depthwise',\n",
        "                       'max_bin' : 1024,\n",
        "                       'model_size_reg' : 0,\n",
        "                       'task_type' : 'GPU',\n",
        "                       'od_type' : 'IncToDec',\n",
        "                       'od_wait' : 100,\n",
        "                       'metric_period' : 500,\n",
        "                       'verbose' : 500,\n",
        "                       'subsample' : 0.8,\n",
        "                       'od_pval' : 1e-10,\n",
        "                       'max_ctr_complexity' : 8,\n",
        "                       'has_time': False,\n",
        "                       'simple_ctr' : 'FeatureFreq',\n",
        "                       'combinations_ctr': 'FeatureFreq',\n",
        "                       'random_seed' : 13}"
      ]
    },
    {
      "cell_type": "code",
      "execution_count": null,
      "metadata": {
        "id": "KU8abn-7iKAa",
        "outputId": "2d322ec2-2340-4552-a4d3-08da3302dc1d"
      },
      "outputs": [
        {
          "name": "stdout",
          "output_type": "stream",
          "text": [
            "0:\tlearn: 0.7575753\ttotal: 50.6ms\tremaining: 1h 7m 25s\n",
            "500:\tlearn: 0.7292708\ttotal: 6.33s\tremaining: 16m 45s\n",
            "1000:\tlearn: 0.7287499\ttotal: 12.6s\tremaining: 16m 37s\n",
            "1500:\tlearn: 0.7287239\ttotal: 19s\tremaining: 16m 31s\n",
            "2000:\tlearn: 0.7287227\ttotal: 25.2s\tremaining: 16m 22s\n",
            "2500:\tlearn: 0.7287226\ttotal: 31.6s\tremaining: 16m 18s\n",
            "3000:\tlearn: 0.7287226\ttotal: 37.8s\tremaining: 16m 11s\n",
            "3500:\tlearn: 0.7287227\ttotal: 44.2s\tremaining: 16m 4s\n",
            "4000:\tlearn: 0.7287226\ttotal: 50.5s\tremaining: 15m 59s\n",
            "4500:\tlearn: 0.7287226\ttotal: 56.8s\tremaining: 15m 52s\n",
            "5000:\tlearn: 0.7287226\ttotal: 1m 3s\tremaining: 15m 47s\n",
            "5500:\tlearn: 0.7287226\ttotal: 1m 9s\tremaining: 15m 40s\n",
            "6000:\tlearn: 0.7287227\ttotal: 1m 15s\tremaining: 15m 35s\n",
            "6500:\tlearn: 0.7287227\ttotal: 1m 22s\tremaining: 15m 29s\n",
            "7000:\tlearn: 0.7287227\ttotal: 1m 28s\tremaining: 15m 22s\n",
            "7500:\tlearn: 0.7287226\ttotal: 1m 34s\tremaining: 15m 16s\n",
            "8000:\tlearn: 0.7287226\ttotal: 1m 41s\tremaining: 15m 9s\n",
            "8500:\tlearn: 0.7287227\ttotal: 1m 47s\tremaining: 15m 2s\n",
            "9000:\tlearn: 0.7287226\ttotal: 1m 53s\tremaining: 14m 56s\n",
            "9500:\tlearn: 0.7287226\ttotal: 1m 59s\tremaining: 14m 50s\n",
            "10000:\tlearn: 0.7287226\ttotal: 2m 6s\tremaining: 14m 44s\n",
            "10500:\tlearn: 0.7287227\ttotal: 2m 12s\tremaining: 14m 37s\n",
            "11000:\tlearn: 0.7287226\ttotal: 2m 18s\tremaining: 14m 31s\n",
            "11500:\tlearn: 0.7287226\ttotal: 2m 25s\tremaining: 14m 25s\n",
            "12000:\tlearn: 0.7287227\ttotal: 2m 31s\tremaining: 14m 18s\n",
            "12500:\tlearn: 0.7287226\ttotal: 2m 37s\tremaining: 14m 12s\n",
            "13000:\tlearn: 0.7287227\ttotal: 2m 44s\tremaining: 14m 6s\n",
            "13500:\tlearn: 0.7287226\ttotal: 2m 50s\tremaining: 13m 59s\n",
            "14000:\tlearn: 0.7287226\ttotal: 2m 56s\tremaining: 13m 53s\n",
            "14500:\tlearn: 0.7287226\ttotal: 3m 3s\tremaining: 13m 47s\n",
            "15000:\tlearn: 0.7287226\ttotal: 3m 9s\tremaining: 13m 41s\n",
            "15500:\tlearn: 0.7287226\ttotal: 3m 15s\tremaining: 13m 34s\n",
            "16000:\tlearn: 0.7287226\ttotal: 3m 22s\tremaining: 13m 28s\n",
            "16500:\tlearn: 0.7287226\ttotal: 3m 28s\tremaining: 13m 22s\n",
            "17000:\tlearn: 0.7287227\ttotal: 3m 34s\tremaining: 13m 16s\n",
            "17500:\tlearn: 0.7287226\ttotal: 3m 41s\tremaining: 13m 10s\n",
            "18000:\tlearn: 0.7287226\ttotal: 3m 47s\tremaining: 13m 4s\n",
            "18500:\tlearn: 0.7287226\ttotal: 3m 54s\tremaining: 12m 57s\n",
            "19000:\tlearn: 0.7287226\ttotal: 4m\tremaining: 12m 51s\n",
            "19500:\tlearn: 0.7287227\ttotal: 4m 6s\tremaining: 12m 45s\n",
            "20000:\tlearn: 0.7287227\ttotal: 4m 13s\tremaining: 12m 39s\n",
            "20500:\tlearn: 0.7287226\ttotal: 4m 19s\tremaining: 12m 32s\n",
            "21000:\tlearn: 0.7287227\ttotal: 4m 25s\tremaining: 12m 26s\n",
            "21500:\tlearn: 0.7287226\ttotal: 4m 32s\tremaining: 12m 20s\n",
            "22000:\tlearn: 0.7287227\ttotal: 4m 38s\tremaining: 12m 13s\n",
            "22500:\tlearn: 0.7287226\ttotal: 4m 44s\tremaining: 12m 7s\n",
            "23000:\tlearn: 0.7287227\ttotal: 4m 50s\tremaining: 12m 1s\n",
            "23500:\tlearn: 0.7287227\ttotal: 4m 57s\tremaining: 11m 54s\n",
            "24000:\tlearn: 0.7287226\ttotal: 5m 3s\tremaining: 11m 48s\n",
            "24500:\tlearn: 0.7287226\ttotal: 5m 9s\tremaining: 11m 41s\n",
            "25000:\tlearn: 0.7287226\ttotal: 5m 16s\tremaining: 11m 35s\n",
            "25500:\tlearn: 0.7287226\ttotal: 5m 22s\tremaining: 11m 29s\n",
            "26000:\tlearn: 0.7287226\ttotal: 5m 28s\tremaining: 11m 22s\n",
            "26500:\tlearn: 0.7287226\ttotal: 5m 35s\tremaining: 11m 16s\n",
            "27000:\tlearn: 0.7287227\ttotal: 5m 41s\tremaining: 11m 10s\n",
            "27500:\tlearn: 0.7287227\ttotal: 5m 47s\tremaining: 11m 4s\n",
            "28000:\tlearn: 0.7287227\ttotal: 5m 54s\tremaining: 10m 57s\n",
            "28500:\tlearn: 0.7287226\ttotal: 6m\tremaining: 10m 51s\n",
            "29000:\tlearn: 0.7287226\ttotal: 6m 7s\tremaining: 10m 45s\n",
            "29500:\tlearn: 0.7287226\ttotal: 6m 13s\tremaining: 10m 39s\n",
            "30000:\tlearn: 0.7287227\ttotal: 6m 19s\tremaining: 10m 33s\n",
            "30500:\tlearn: 0.7287226\ttotal: 6m 26s\tremaining: 10m 26s\n",
            "31000:\tlearn: 0.7287227\ttotal: 6m 32s\tremaining: 10m 20s\n",
            "31500:\tlearn: 0.7287226\ttotal: 6m 38s\tremaining: 10m 14s\n",
            "32000:\tlearn: 0.7287227\ttotal: 6m 45s\tremaining: 10m 7s\n",
            "32500:\tlearn: 0.7287226\ttotal: 6m 51s\tremaining: 10m 1s\n",
            "33000:\tlearn: 0.7287227\ttotal: 6m 58s\tremaining: 9m 55s\n",
            "33500:\tlearn: 0.7287226\ttotal: 7m 4s\tremaining: 9m 49s\n",
            "34000:\tlearn: 0.7287226\ttotal: 7m 10s\tremaining: 9m 42s\n",
            "34500:\tlearn: 0.7287226\ttotal: 7m 17s\tremaining: 9m 37s\n",
            "35000:\tlearn: 0.7287227\ttotal: 7m 24s\tremaining: 9m 32s\n",
            "35500:\tlearn: 0.7287227\ttotal: 7m 31s\tremaining: 9m 25s\n",
            "36000:\tlearn: 0.7287227\ttotal: 7m 38s\tremaining: 9m 19s\n",
            "36500:\tlearn: 0.7287227\ttotal: 7m 45s\tremaining: 9m 14s\n",
            "37000:\tlearn: 0.7287227\ttotal: 7m 51s\tremaining: 9m 7s\n",
            "37500:\tlearn: 0.7287226\ttotal: 7m 57s\tremaining: 9m 1s\n",
            "38000:\tlearn: 0.7287226\ttotal: 8m 6s\tremaining: 8m 57s\n",
            "38500:\tlearn: 0.7287226\ttotal: 8m 12s\tremaining: 8m 51s\n",
            "39000:\tlearn: 0.7287226\ttotal: 8m 19s\tremaining: 8m 45s\n",
            "39500:\tlearn: 0.7287226\ttotal: 8m 26s\tremaining: 8m 39s\n",
            "40000:\tlearn: 0.7287226\ttotal: 8m 33s\tremaining: 8m 33s\n",
            "40500:\tlearn: 0.7287227\ttotal: 8m 39s\tremaining: 8m 26s\n",
            "41000:\tlearn: 0.7287227\ttotal: 8m 46s\tremaining: 8m 20s\n",
            "41500:\tlearn: 0.7287227\ttotal: 8m 52s\tremaining: 8m 14s\n",
            "42000:\tlearn: 0.7287226\ttotal: 8m 59s\tremaining: 8m 7s\n",
            "42500:\tlearn: 0.7287226\ttotal: 9m 5s\tremaining: 8m 1s\n",
            "43000:\tlearn: 0.7287226\ttotal: 9m 12s\tremaining: 7m 55s\n",
            "43500:\tlearn: 0.7287227\ttotal: 9m 18s\tremaining: 7m 48s\n",
            "44000:\tlearn: 0.7287226\ttotal: 9m 24s\tremaining: 7m 42s\n",
            "44500:\tlearn: 0.7287227\ttotal: 9m 31s\tremaining: 7m 35s\n",
            "45000:\tlearn: 0.7287227\ttotal: 9m 37s\tremaining: 7m 29s\n",
            "45500:\tlearn: 0.7287226\ttotal: 9m 44s\tremaining: 7m 23s\n",
            "46000:\tlearn: 0.7287226\ttotal: 9m 50s\tremaining: 7m 16s\n",
            "46500:\tlearn: 0.7287227\ttotal: 9m 57s\tremaining: 7m 10s\n",
            "47000:\tlearn: 0.7287227\ttotal: 10m 3s\tremaining: 7m 3s\n",
            "47500:\tlearn: 0.7287226\ttotal: 10m 10s\tremaining: 6m 57s\n",
            "48000:\tlearn: 0.7287227\ttotal: 10m 16s\tremaining: 6m 51s\n",
            "48500:\tlearn: 0.7287227\ttotal: 10m 23s\tremaining: 6m 44s\n",
            "49000:\tlearn: 0.7287226\ttotal: 10m 29s\tremaining: 6m 38s\n",
            "49500:\tlearn: 0.7287226\ttotal: 10m 36s\tremaining: 6m 31s\n",
            "50000:\tlearn: 0.7287226\ttotal: 10m 42s\tremaining: 6m 25s\n",
            "50500:\tlearn: 0.7287227\ttotal: 10m 48s\tremaining: 6m 18s\n",
            "51000:\tlearn: 0.7287226\ttotal: 10m 55s\tremaining: 6m 12s\n",
            "51500:\tlearn: 0.7287226\ttotal: 11m 1s\tremaining: 6m 5s\n",
            "52000:\tlearn: 0.7287227\ttotal: 11m 7s\tremaining: 5m 59s\n",
            "52500:\tlearn: 0.7287226\ttotal: 11m 14s\tremaining: 5m 53s\n",
            "53000:\tlearn: 0.7287226\ttotal: 11m 20s\tremaining: 5m 46s\n",
            "53500:\tlearn: 0.7287227\ttotal: 11m 26s\tremaining: 5m 40s\n",
            "54000:\tlearn: 0.7287226\ttotal: 11m 33s\tremaining: 5m 33s\n",
            "54500:\tlearn: 0.7287227\ttotal: 11m 39s\tremaining: 5m 27s\n",
            "55000:\tlearn: 0.7287226\ttotal: 11m 45s\tremaining: 5m 20s\n",
            "55500:\tlearn: 0.7287226\ttotal: 11m 52s\tremaining: 5m 14s\n",
            "56000:\tlearn: 0.7287227\ttotal: 11m 58s\tremaining: 5m 7s\n",
            "56500:\tlearn: 0.7287226\ttotal: 12m 5s\tremaining: 5m 1s\n",
            "57000:\tlearn: 0.7287226\ttotal: 12m 11s\tremaining: 4m 55s\n",
            "57500:\tlearn: 0.7287227\ttotal: 12m 18s\tremaining: 4m 48s\n",
            "58000:\tlearn: 0.7287226\ttotal: 12m 24s\tremaining: 4m 42s\n",
            "58500:\tlearn: 0.7287226\ttotal: 12m 31s\tremaining: 4m 36s\n",
            "59000:\tlearn: 0.7287226\ttotal: 12m 37s\tremaining: 4m 29s\n",
            "59500:\tlearn: 0.7287226\ttotal: 12m 43s\tremaining: 4m 23s\n",
            "60000:\tlearn: 0.7287226\ttotal: 12m 50s\tremaining: 4m 16s\n",
            "60500:\tlearn: 0.7287227\ttotal: 12m 56s\tremaining: 4m 10s\n",
            "61000:\tlearn: 0.7287227\ttotal: 13m 3s\tremaining: 4m 4s\n",
            "61500:\tlearn: 0.7287227\ttotal: 13m 10s\tremaining: 3m 57s\n",
            "62000:\tlearn: 0.7287226\ttotal: 13m 16s\tremaining: 3m 51s\n",
            "62500:\tlearn: 0.7287227\ttotal: 13m 23s\tremaining: 3m 44s\n",
            "63000:\tlearn: 0.7287227\ttotal: 13m 29s\tremaining: 3m 38s\n",
            "63500:\tlearn: 0.7287226\ttotal: 13m 35s\tremaining: 3m 32s\n",
            "64000:\tlearn: 0.7287226\ttotal: 13m 42s\tremaining: 3m 25s\n",
            "64500:\tlearn: 0.7287226\ttotal: 13m 48s\tremaining: 3m 19s\n",
            "65000:\tlearn: 0.7287226\ttotal: 13m 54s\tremaining: 3m 12s\n",
            "65500:\tlearn: 0.7287227\ttotal: 14m 1s\tremaining: 3m 6s\n",
            "66000:\tlearn: 0.7287227\ttotal: 14m 7s\tremaining: 2m 59s\n",
            "66500:\tlearn: 0.7287227\ttotal: 14m 14s\tremaining: 2m 53s\n",
            "67000:\tlearn: 0.7287227\ttotal: 14m 20s\tremaining: 2m 46s\n",
            "67500:\tlearn: 0.7287227\ttotal: 14m 26s\tremaining: 2m 40s\n",
            "68000:\tlearn: 0.7287227\ttotal: 14m 33s\tremaining: 2m 34s\n",
            "68500:\tlearn: 0.7287227\ttotal: 14m 39s\tremaining: 2m 27s\n",
            "69000:\tlearn: 0.7287227\ttotal: 14m 45s\tremaining: 2m 21s\n",
            "69500:\tlearn: 0.7287227\ttotal: 14m 52s\tremaining: 2m 14s\n",
            "70000:\tlearn: 0.7287226\ttotal: 14m 58s\tremaining: 2m 8s\n",
            "70500:\tlearn: 0.7287226\ttotal: 15m 4s\tremaining: 2m 1s\n",
            "71000:\tlearn: 0.7287226\ttotal: 15m 11s\tremaining: 1m 55s\n",
            "71500:\tlearn: 0.7287226\ttotal: 15m 17s\tremaining: 1m 49s\n",
            "72000:\tlearn: 0.7287226\ttotal: 15m 23s\tremaining: 1m 42s\n",
            "72500:\tlearn: 0.7287226\ttotal: 15m 30s\tremaining: 1m 36s\n"
          ]
        },
        {
          "name": "stdout",
          "output_type": "stream",
          "text": [
            "73000:\tlearn: 0.7287226\ttotal: 15m 36s\tremaining: 1m 29s\n",
            "73500:\tlearn: 0.7287226\ttotal: 15m 42s\tremaining: 1m 23s\n",
            "74000:\tlearn: 0.7287226\ttotal: 15m 49s\tremaining: 1m 16s\n",
            "74500:\tlearn: 0.7287226\ttotal: 15m 55s\tremaining: 1m 10s\n",
            "75000:\tlearn: 0.7287227\ttotal: 16m 1s\tremaining: 1m 4s\n",
            "75500:\tlearn: 0.7287226\ttotal: 16m 7s\tremaining: 57.7s\n",
            "76000:\tlearn: 0.7287226\ttotal: 16m 14s\tremaining: 51.3s\n",
            "76500:\tlearn: 0.7287226\ttotal: 16m 20s\tremaining: 44.9s\n",
            "77000:\tlearn: 0.7287226\ttotal: 16m 27s\tremaining: 38.4s\n",
            "77500:\tlearn: 0.7287227\ttotal: 16m 33s\tremaining: 32s\n",
            "78000:\tlearn: 0.7287226\ttotal: 16m 39s\tremaining: 25.6s\n",
            "78500:\tlearn: 0.7287226\ttotal: 16m 46s\tremaining: 19.2s\n",
            "79000:\tlearn: 0.7287227\ttotal: 16m 52s\tremaining: 12.8s\n",
            "79500:\tlearn: 0.7287227\ttotal: 16m 58s\tremaining: 6.39s\n",
            "79999:\tlearn: 0.7287226\ttotal: 17m 5s\tremaining: 0us\n",
            "1.9373800548098965\n",
            "CPU times: total: 35min 37s\n",
            "Wall time: 18min 30s\n"
          ]
        }
      ],
      "source": [
        "%%time\n",
        "cb_reg_1 = CatBoostRegressor(**opt_catboost_params)\n",
        "cb_reg_1.fit(features_train, target_train)\n",
        "cb_preds = cb_reg_1.predict(features_valid)\n",
        "\n",
        "# calculate mean squared error on val sub-set preds\n",
        "result = mean_absolute_percentage_error(cb_preds, predictions_valid)\n",
        "print(result)\n"
      ]
    },
    {
      "cell_type": "code",
      "execution_count": null,
      "metadata": {
        "id": "0K4eGf11iKAb"
      },
      "outputs": [],
      "source": [
        "predict = cb_reg_1.predict(test_db)"
      ]
    },
    {
      "cell_type": "code",
      "execution_count": null,
      "metadata": {
        "id": "mt4BUtgKiKAb"
      },
      "outputs": [],
      "source": [
        "df = pd.DataFrame(data = {'vin': main_target_vin, 'sellingprice': predict}, index = range(len(main_target_vin)))"
      ]
    },
    {
      "cell_type": "code",
      "execution_count": null,
      "metadata": {
        "id": "Ly_1_Mp6iKAb"
      },
      "outputs": [],
      "source": [
        "save_db(df, 'sample_submission_1')"
      ]
    },
    {
      "cell_type": "code",
      "execution_count": null,
      "metadata": {
        "id": "aqmCJJ3aiKAb"
      },
      "outputs": [],
      "source": []
    }
  ],
  "metadata": {
    "colab": {
      "provenance": []
    },
    "kernelspec": {
      "display_name": "Python 3 (ipykernel)",
      "language": "python",
      "name": "python3"
    },
    "language_info": {
      "codemirror_mode": {
        "name": "ipython",
        "version": 3
      },
      "file_extension": ".py",
      "mimetype": "text/x-python",
      "name": "python",
      "nbconvert_exporter": "python",
      "pygments_lexer": "ipython3",
      "version": "3.9.15"
    }
  },
  "nbformat": 4,
  "nbformat_minor": 0
}